{
 "cells": [
  {
   "cell_type": "markdown",
   "metadata": {},
   "source": [
    "# FIT5196 Task 2 in Assessment 1\n",
    "#### Student Name: Vikram Hanumanthrao Patil\n",
    "#### Student ID: 29389690\n",
    "\n",
    "Date: 2/09/2018\n",
    "\n",
    "Version: 1.0\n",
    "\n",
    "Environment: Python 3.6.1 and Jupyter notebook\n",
    "\n",
    "Libraries used: Main libraries used for assignment:\n",
    "* re (for regular expression, included in Anaconda Python 3.6) \n",
    "* sys (to display system version, included in Anaconda Python 3.6) \n",
    "* nltk (for text processing, included in Anaconda Python 3.6) \n",
    "* pathlib (to set the document directory in order to read files, included in Anaconda Python 3.6) \n",
    "* nltk.tokenize (for tokenize and mwetokenize process, included in Anaconda Python 3.6) \n",
    "* os (for changing file directory, included in Anaconda Python 3.6) \n",
    "* nltk.util (for bigrams, included in Anaconda Python 3.6) \n",
    "* nltk.probability (for calculating term frequency of tokens, included in Anaconda Python 3.6) \n",
    "* warnings (to ignore any warnings thrown whiel execution, included in Anaconda Python 3.6) \n",
    "* nltk.probability (for calculating term frequency of tokens, included in Anaconda Python 3.6) \n",
    "* nltk.stem (for stemming of tokens, included in Anaconda Python 3.6) \n",
    "* pandas(for creating dataframes, included in Anaconda Python 3.6) \n",
    "* matplotlib(for plotting dataframes, included in Anaconda Python 3.6) \n"
   ]
  },
  {
   "cell_type": "markdown",
   "metadata": {},
   "source": [
    "## Introduction:\n",
    "\n",
    "This analysis consists of parsing of 219/250 resumes, cleaning the resumes' files by removing stopwords, characters less than 3length, most frequent and less frequent words. \n",
    "Once the tokens are generated, bigrams and unigrams are merged to form final vocab list.\n",
    "Then count of each tokens present in each resume is printed to files to form the vector matrix, which further helps for text processing.\n",
    "\n"
   ]
  },
  {
   "cell_type": "markdown",
   "metadata": {},
   "source": [
    "##  Import libraries "
   ]
  },
  {
   "cell_type": "code",
   "execution_count": 124,
   "metadata": {},
   "outputs": [
    {
     "name": "stdout",
     "output_type": "stream",
     "text": [
      "sys.version_info(major=3, minor=6, micro=1, releaselevel='final', serial=0)\n"
     ]
    }
   ],
   "source": [
    "# Importing libraries for assessment 1 - Task 2\n",
    "\n",
    "import re\n",
    "import sys\n",
    "import nltk\n",
    "from pathlib import Path\n",
    "from nltk.tokenize import RegexpTokenizer\n",
    "import os\n",
    "from nltk.util import ngrams\n",
    "from nltk.probability import *\n",
    "import warnings\n",
    "warnings.filterwarnings('ignore')\n",
    "from nltk.tokenize import MWETokenizer\n",
    "from nltk.stem import PorterStemmer\n",
    "from nltk.tokenize import sent_tokenize\n",
    "import pandas as pd\n",
    "import matplotlib.pyplot as plt\n",
    "%matplotlib inline\n",
    "\n",
    "\n",
    "#Printing system version\n",
    "print (sys.version_info)"
   ]
  },
  {
   "cell_type": "markdown",
   "metadata": {},
   "source": [
    "### 1) Identify the 250 resumes file numbers assigned to me.   "
   ]
  },
  {
   "cell_type": "code",
   "execution_count": 125,
   "metadata": {
    "collapsed": true
   },
   "outputs": [],
   "source": [
    "#Function used to clean the data while reading the files\n",
    "\n",
    "def clean_data_fun(data):\n",
    "    data=re.sub('[^\\s!-~]', '', data) #removes extra unwanted characters\n",
    "    data = re.sub('[%s]' % re.escape(\"\\n\\|\\/\"), '', data)  # removes punctuations\n",
    "    data = re.sub('\\s+', ' ', data)# removes extra whitespace\n",
    "    return data #returns cleaned data"
   ]
  },
  {
   "cell_type": "code",
   "execution_count": 126,
   "metadata": {},
   "outputs": [
    {
     "name": "stdout",
     "output_type": "stream",
     "text": [
      "Result :Total resumes to be extracted- 219 out of 250 resumes\n",
      "\n",
      " ['1', '101', '102', '107', '108', '118', '119', '12', '120', '126', '128', '133', '135', '137', '14', '140', '142', '143', '145', '147', '150', '153', '156', '167', '169', '170', '173', '176', '177', '181', '186', '188', '19', '20', '207', '208', '227', '229', '231', '233', '243', '246', '252', '253', '257', '260', '262', '264', '271', '272', '275', '277', '278', '289', '290', '292', '297', '301', '303', '308', '314', '317', '32', '321', '324', '329', '335', '336', '340', '343', '344', '345', '347', '359', '365', '367', '371', '372', '381', '382', '385', '386', '39', '390', '395', '398', '405', '409', '410', '42', '421', '425', '429', '437', '439', '446', '448', '452', '459', '467', '472', '475', '477', '48', '492', '495', '496', '50', '500', '502', '503', '504', '508', '509', '51', '516', '517', '524', '525', '529', '535', '543', '545', '556', '563', '565', '569', '570', '572', '575', '579', '58', '580', '581', '583', '587', '590', '595', '596', '6', '603', '604', '609', '61', '610', '627', '638', '64', '640', '651', '654', '658', '659', '666', '677', '680', '682', '685', '686', '688', '689', '691', '695', '700', '703', '71', '712', '714', '718', '719', '722', '725', '729', '73', '730', '734', '738', '74', '745', '746', '748', '754', '758', '760', '766', '769', '772', '773', '774', '782', '784', '788', '791', '794', '797', '805', '806', '807', '809', '811', '818', '821', '824', '826', '827', '828', '830', '836', '837', '841', '842', '851', '852', '859', '861', '865', '88', '9', '98']\n"
     ]
    }
   ],
   "source": [
    "#This step extracts the required 250 resumes' names assigned to me from the folder.\n",
    "\n",
    "#From the directory fetch the resumes numbers assigned to me\n",
    "os.chdir('C:/Users/vikra/Desktop/Python/wrangling/Assignment/A-1/Task2')\n",
    "with open('student_dataset.txt','r') as input_file:\n",
    "    resume_student_dataset=input_file.read()\n",
    "input_file.close()\n",
    "\n",
    "# Once the file is opened, read the file inorder to find the resume's file numbers\n",
    "\n",
    "resume_student_dataset=clean_data_fun(resume_student_dataset) #clean the data set if any unwanted characters present\n",
    "resume_student_dataset=resume_student_dataset.split(\" \") #extract individual file string using str.split()\n",
    "resume_student_dataset=list(set(resume_student_dataset)) #fetch unique file numbers by applying set.\n",
    "print(\"Result :Total resumes to be extracted-\",len(resume_student_dataset),\"out of 250 resumes\") #print result\n",
    "resume_student_dataset.sort() #The final list which contains the 219 file numbers to be extracted.\n",
    "\n",
    "print(\"\\n\",resume_student_dataset)"
   ]
  },
  {
   "cell_type": "code",
   "execution_count": 127,
   "metadata": {},
   "outputs": [
    {
     "name": "stdout",
     "output_type": "stream",
     "text": [
      "Total files in the directory: 866\n",
      "\n",
      "The required file names are: ['resume_(1).txt', 'resume_(101).txt', 'resume_(102).txt', 'resume_(107).txt', 'resume_(108).txt', 'resume_(118).txt', 'resume_(119).txt', 'resume_(12).txt', 'resume_(120).txt', 'resume_(126).txt', 'resume_(128).txt', 'resume_(133).txt', 'resume_(135).txt', 'resume_(137).txt', 'resume_(14).txt', 'resume_(140).txt', 'resume_(142).txt', 'resume_(143).txt', 'resume_(145).txt', 'resume_(147).txt', 'resume_(150).txt', 'resume_(153).txt', 'resume_(156).txt', 'resume_(167).txt', 'resume_(169).txt', 'resume_(170).txt', 'resume_(173).txt', 'resume_(176).txt', 'resume_(177).txt', 'resume_(181).txt', 'resume_(186).txt', 'resume_(188).txt', 'resume_(19).txt', 'resume_(20).txt', 'resume_(207).txt', 'resume_(208).txt', 'resume_(227).txt', 'resume_(229).txt', 'resume_(231).txt', 'resume_(233).txt', 'resume_(243).txt', 'resume_(246).txt', 'resume_(252).txt', 'resume_(253).txt', 'resume_(257).txt', 'resume_(260).txt', 'resume_(262).txt', 'resume_(264).txt', 'resume_(271).txt', 'resume_(272).txt', 'resume_(275).txt', 'resume_(277).txt', 'resume_(278).txt', 'resume_(289).txt', 'resume_(290).txt', 'resume_(292).txt', 'resume_(297).txt', 'resume_(301).txt', 'resume_(303).txt', 'resume_(308).txt', 'resume_(314).txt', 'resume_(317).txt', 'resume_(32).txt', 'resume_(321).txt', 'resume_(324).txt', 'resume_(329).txt', 'resume_(335).txt', 'resume_(336).txt', 'resume_(340).txt', 'resume_(343).txt', 'resume_(344).txt', 'resume_(345).txt', 'resume_(347).txt', 'resume_(359).txt', 'resume_(365).txt', 'resume_(367).txt', 'resume_(371).txt', 'resume_(372).txt', 'resume_(381).txt', 'resume_(382).txt', 'resume_(385).txt', 'resume_(386).txt', 'resume_(39).txt', 'resume_(390).txt', 'resume_(395).txt', 'resume_(398).txt', 'resume_(405).txt', 'resume_(409).txt', 'resume_(410).txt', 'resume_(42).txt', 'resume_(421).txt', 'resume_(425).txt', 'resume_(429).txt', 'resume_(437).txt', 'resume_(439).txt', 'resume_(446).txt', 'resume_(448).txt', 'resume_(452).txt', 'resume_(459).txt', 'resume_(467).txt', 'resume_(472).txt', 'resume_(475).txt', 'resume_(477).txt', 'resume_(48).txt', 'resume_(492).txt', 'resume_(495).txt', 'resume_(496).txt', 'resume_(50).txt', 'resume_(500).txt', 'resume_(502).txt', 'resume_(503).txt', 'resume_(504).txt', 'resume_(508).txt', 'resume_(509).txt', 'resume_(51).txt', 'resume_(516).txt', 'resume_(517).txt', 'resume_(524).txt', 'resume_(525).txt', 'resume_(529).txt', 'resume_(535).txt', 'resume_(543).txt', 'resume_(545).txt', 'resume_(556).txt', 'resume_(563).txt', 'resume_(565).txt', 'resume_(569).txt', 'resume_(570).txt', 'resume_(572).txt', 'resume_(575).txt', 'resume_(579).txt', 'resume_(58).txt', 'resume_(580).txt', 'resume_(581).txt', 'resume_(583).txt', 'resume_(587).txt', 'resume_(590).txt', 'resume_(595).txt', 'resume_(596).txt', 'resume_(6).txt', 'resume_(603).txt', 'resume_(604).txt', 'resume_(609).txt', 'resume_(61).txt', 'resume_(610).txt', 'resume_(627).txt', 'resume_(638).txt', 'resume_(64).txt', 'resume_(640).txt', 'resume_(651).txt', 'resume_(654).txt', 'resume_(658).txt', 'resume_(659).txt', 'resume_(666).txt', 'resume_(677).txt', 'resume_(680).txt', 'resume_(682).txt', 'resume_(685).txt', 'resume_(686).txt', 'resume_(688).txt', 'resume_(689).txt', 'resume_(691).txt', 'resume_(695).txt', 'resume_(700).txt', 'resume_(703).txt', 'resume_(71).txt', 'resume_(712).txt', 'resume_(714).txt', 'resume_(718).txt', 'resume_(719).txt', 'resume_(722).txt', 'resume_(725).txt', 'resume_(729).txt', 'resume_(73).txt', 'resume_(730).txt', 'resume_(734).txt', 'resume_(738).txt', 'resume_(74).txt', 'resume_(745).txt', 'resume_(746).txt', 'resume_(748).txt', 'resume_(754).txt', 'resume_(758).txt', 'resume_(760).txt', 'resume_(766).txt', 'resume_(769).txt', 'resume_(772).txt', 'resume_(773).txt', 'resume_(774).txt', 'resume_(782).txt', 'resume_(784).txt', 'resume_(788).txt', 'resume_(791).txt', 'resume_(794).txt', 'resume_(797).txt', 'resume_(805).txt', 'resume_(806).txt', 'resume_(807).txt', 'resume_(809).txt', 'resume_(811).txt', 'resume_(818).txt', 'resume_(821).txt', 'resume_(824).txt', 'resume_(826).txt', 'resume_(827).txt', 'resume_(828).txt', 'resume_(830).txt', 'resume_(836).txt', 'resume_(837).txt', 'resume_(841).txt', 'resume_(842).txt', 'resume_(851).txt', 'resume_(852).txt', 'resume_(859).txt', 'resume_(861).txt', 'resume_(865).txt', 'resume_(88).txt', 'resume_(9).txt', 'resume_(98).txt']\n"
     ]
    }
   ],
   "source": [
    "#Next step: from previous step I got the numbers, now mapping these numbers with the resume file number inside directory\n",
    "\n",
    "path = \"C:/Users/vikra/Desktop/Python/wrangling/Assignment/A-1/Task2/resumeTxt\"\n",
    "\n",
    "Files=list(sorted(os.listdir(path)))\n",
    "print(\"Total files in the directory:\",len(Files))\n",
    "\n",
    "required_text_files=[] #To store only the required files. This will store 219 files' names out of 866\n",
    "pattern =re.compile('(?<=resume_\\()[0-9]+(?=\\).txt)') #using regex, matching the files\n",
    "for each in Files:\n",
    "    for j in (pattern.findall(each)):\n",
    "        if j in resume_student_dataset:\n",
    "            required_text_files.append(each)\n",
    "            \n",
    "print(\"\\nThe required file names are:\",(required_text_files))\n"
   ]
  },
  {
   "cell_type": "markdown",
   "metadata": {},
   "source": [
    "--------------\n",
    "### 2) Read 219 resumes' data from the directory. Additionally, sentence segmentation and case normalization is done."
   ]
  },
  {
   "cell_type": "code",
   "execution_count": 128,
   "metadata": {
    "collapsed": true
   },
   "outputs": [],
   "source": [
    "# Case normalization function, this function will lower case the first word of every sentence. \n",
    "\n",
    "def normalize_fun(data):\n",
    "    new_list=''\n",
    "    new_list=''.join(re.sub(r'(^\\s?\\w+)',lambda m: m.group().lower(),data)) # lower case the first word of sentence\n",
    "    return new_list\n"
   ]
  },
  {
   "cell_type": "code",
   "execution_count": 129,
   "metadata": {},
   "outputs": [
    {
     "name": "stdout",
     "output_type": "stream",
     "text": [
      "'final_data' contains normalised 219 resumes' data in a list format\n",
      "'final_all_text' is a string, which contains all 219 data in one file\n"
     ]
    }
   ],
   "source": [
    "# Read all 219 files and store in a dictionary format.\n",
    "\n",
    "os.chdir('C:/Users/vikra/Desktop/Python/wrangling/Assignment/A-1/Task2/resumeTxt')\n",
    "\n",
    "#This method opens and reads the file\n",
    "def read_file_contents(file_name):\n",
    "    with open(file_name,'r',encoding='UTF-8') as f:\n",
    "        data = f.read()\n",
    "    return data\n",
    "    f.close()\n",
    "\n",
    "# This step performs sentence segmentation and case normalization\n",
    "def perform_seg_norm(data):\n",
    "    new_str=''\n",
    "    sent_tokenize_list = sent_tokenize(data)\n",
    "    sent_tokenize_list=[normalize_fun(each) for each in sent_tokenize_list]\n",
    "    new_str = ''.join(str(e) for e in sent_tokenize_list)\n",
    "    return new_str\n",
    "\n",
    "\n",
    "#Read all 219 texts, clean and store them\n",
    "all_text=[read_file_contents(name) for name in required_text_files] #Read all 219 data into one list\n",
    "all_text=[clean_data_fun(each) for each in all_text] #remove unwanted characters for each file\n",
    "\n",
    "# Applying sentence segmentation + case normalization, the result is final 219 data stored in a list\n",
    "final_data=[]\n",
    "final_data+=[perform_seg_norm(each) for each in all_text]\n",
    "    \n",
    "final_all_text=''.join(each for each in final_data) #Convert whole 219 data into one string. This is required for further steps\n",
    "\n",
    "\n",
    "#Storing all resumes and respective data into a dictionary format\n",
    "resume_dict = dict(zip(resume_student_dataset, final_data))\n",
    "#resume_dict\n",
    "\n",
    "print(\"'final_data' contains normalised 219 resumes' data in a list format\")\n",
    "print(\"'final_all_text' is a string, which contains all 219 data in one file\")"
   ]
  },
  {
   "cell_type": "markdown",
   "metadata": {},
   "source": [
    "-----------\n",
    "### 3) Perform tokenisation.            \n"
   ]
  },
  {
   "cell_type": "code",
   "execution_count": 130,
   "metadata": {},
   "outputs": [
    {
     "name": "stdout",
     "output_type": "stream",
     "text": [
      "Total tokens present after reading all 219 resumes: 137702\n"
     ]
    }
   ],
   "source": [
    "#Below function tokenises based on the given regular expression.\n",
    "\n",
    "def f_tokenise(data):\n",
    "    tokenizer = RegexpTokenizer(r\"\\w+(?:[-']\\w+)?\")  # Regular expression used for tokenization\n",
    "    tokens = tokenizer.tokenize(data)\n",
    "    return tokens\n",
    "\n",
    "tokenised_data=f_tokenise(final_all_text)\n",
    "print(\"Total tokens present after reading all 219 resumes:\",len(tokenised_data))\n"
   ]
  },
  {
   "cell_type": "markdown",
   "metadata": {},
   "source": [
    "------------\n",
    "### 4) Removal of stop words from tokens"
   ]
  },
  {
   "cell_type": "code",
   "execution_count": 131,
   "metadata": {},
   "outputs": [
    {
     "name": "stdout",
     "output_type": "stream",
     "text": [
      "Tokens filtered from stop words: 105116\n"
     ]
    }
   ],
   "source": [
    "#Fetching stop_words from the directory\n",
    "\n",
    "os.chdir('C://Users//vikra//Desktop//Python//wrangling//Assignment//A-1//Task2')\n",
    "\n",
    "with open('stopwords_en.txt','r') as input_file:\n",
    "    stop_words=input_file.read()\n",
    "input_file.close()\n",
    "\n",
    "stop_words=stop_words.split()\n",
    "stop_words=set(stop_words) #this list contains the stop words given for the assessment.\n",
    "\n",
    "#Filter stop words from tokens\n",
    "\n",
    "stopped_stopwords=[w for w in tokenised_data if w not in stop_words]\n",
    "print(\"Tokens filtered from stop words:\",len(stopped_stopwords))\n"
   ]
  },
  {
   "cell_type": "markdown",
   "metadata": {},
   "source": [
    "-----------------\n",
    "### 5) Filtering tokens with less than 3 characters."
   ]
  },
  {
   "cell_type": "code",
   "execution_count": 132,
   "metadata": {},
   "outputs": [
    {
     "name": "stdout",
     "output_type": "stream",
     "text": [
      "Tokens less than 3 character removed and new filtered tokens= 91722\n"
     ]
    }
   ],
   "source": [
    "#Removes data with less than 3character\n",
    "\n",
    "#A function which identifies and removes tokens with less than 3 characters\n",
    "def filter_word(data):\n",
    "    filter_list=[]\n",
    "    for each in data:\n",
    "        if len(each)>3:\n",
    "            filter_list.append(each)\n",
    "    return filter_list\n",
    "\n",
    "#A function which identifies 3char\n",
    "def find_3charword(data):\n",
    "    filter_list=[]\n",
    "    for each in data:\n",
    "        if len(each)<3:\n",
    "            filter_list.append(each)\n",
    "    return filter_list\n",
    "\n",
    "filtered_tokens=filter_word(stopped_stopwords) # calling the function to remove less than 3 characters \n",
    "tokens_3char=find_3charword(stopped_stopwords)\n",
    "\n",
    "print(\"Tokens less than 3 character removed and new filtered tokens=\",len(filtered_tokens))\n"
   ]
  },
  {
   "cell_type": "markdown",
   "metadata": {},
   "source": [
    "-----------------------------\n",
    "### 6) Filtering context-dependent (with the threshold set to %98) and rare tokens (< than 2%)"
   ]
  },
  {
   "cell_type": "markdown",
   "metadata": {},
   "source": [
    "####  This section finds the 98% and 2% tokens and removes them. Process is divided into 3 steps.\n",
    "---------------------------------------------------------\n",
    "#### 6-1: Function(count_tokens_sen) accepts the tokens and all the resume files data and returns the count of each tokens  presence against each file."
   ]
  },
  {
   "cell_type": "code",
   "execution_count": 133,
   "metadata": {
    "collapsed": true
   },
   "outputs": [],
   "source": [
    "def count_tokens_sen(word_set,phrase_set):\n",
    "    word_set=list(set(word_set))\n",
    "    matches=[]\n",
    "    for sen in phrase_set:\n",
    "        words=sen.split()\n",
    "        words=list(set(words))\n",
    "        matches+=[x for x in word_set if x in words]\n",
    "    \n",
    "    counts={}\n",
    "    for each in matches:\n",
    "        if each in counts:counts[each] += 1\n",
    "        else:counts[each] = 1\n",
    "    return counts\n",
    "\n",
    "\n",
    "tokens_count=count_tokens_sen(filtered_tokens,final_data) # stores the count of presence of each token in all files\n",
    "# filtered_tokens contains the previous filtered tokens\n",
    "# final_data here is the list which contains 219 resumes' data"
   ]
  },
  {
   "cell_type": "markdown",
   "metadata": {},
   "source": [
    "#### Output of 6-1: The count of each token against presenece of 219 is calculated\n",
    "---------------------------------------------------------------------------------\n",
    "#### 6-2: This section finds the 98% and 2% tokens"
   ]
  },
  {
   "cell_type": "code",
   "execution_count": 134,
   "metadata": {
    "collapsed": true
   },
   "outputs": [],
   "source": [
    "# Defining a function which calculates the percentage of presenece of each token\n",
    "def filter_contextdep(data):\n",
    "    tokens_to_be_filtered=[]\n",
    "    for key,value in data.items():\n",
    "        value=round((value/219)*100,2)\n",
    "        if value >= 98 or value <= 2:\n",
    "            #print(key,value,\"%\")\n",
    "            tokens_to_be_filtered.append(key)\n",
    "    return tokens_to_be_filtered\n",
    "\n",
    "tokens_to_be_filtered_contextdep=filter_contextdep(tokens_count)"
   ]
  },
  {
   "cell_type": "markdown",
   "metadata": {},
   "source": [
    "#### Output of 6-2: calculates the tokens which are context dependent\n",
    "--------------------------------------------------------------------\n",
    "#### 6-3: Filter tokens which are context dependent"
   ]
  },
  {
   "cell_type": "code",
   "execution_count": 135,
   "metadata": {},
   "outputs": [
    {
     "name": "stdout",
     "output_type": "stream",
     "text": [
      "Output of step-3: tokens greater than 98% and less than 2% are removed.\n",
      "\n",
      "Total words to be removed which are occuring more than 98% or less than 2%= 10321\n",
      "\n",
      "Filtered tokens after removing context dependent= 71962\n"
     ]
    }
   ],
   "source": [
    "filt_tokens=[w for w in filtered_tokens if w not in tokens_to_be_filtered_contextdep]\n",
    "\n",
    "#-------------------------------------------------------------------------------\n",
    "print(\"Output of step-3: tokens greater than 98% and less than 2% are removed.\")\n",
    "#-------------------------------------------------------------------------------\n",
    "\n",
    "\n",
    "print(\"\\nTotal words to be removed which are occuring more than 98% or less than 2%=\",len(tokens_to_be_filtered_contextdep))\n",
    "\n",
    "print(\"\\nFiltered tokens after removing context dependent=\",len(filt_tokens))\n"
   ]
  },
  {
   "cell_type": "markdown",
   "metadata": {},
   "source": [
    "--------------------------------------\n",
    "### 7) Stemming process. Since stemmer works only for lower-case tokens, hence process is to filter the lowercase and apply stemming"
   ]
  },
  {
   "cell_type": "markdown",
   "metadata": {},
   "source": [
    "#### 7-1: Finding all Uppercase and lowercase tokens"
   ]
  },
  {
   "cell_type": "code",
   "execution_count": 136,
   "metadata": {},
   "outputs": [
    {
     "name": "stdout",
     "output_type": "stream",
     "text": [
      "Total upper case tokens: 27742\n",
      "Total lower case tokens: 41260\n"
     ]
    }
   ],
   "source": [
    "uppercase_pattern=re.compile(r'^[A-Z].*\\b') # A Regex pattern to identify uppercase tokens\n",
    "lowercase_pattern=re.compile(r'^[a-z].*\\b') # A Regex pattern to identify lowercase tokens\n",
    "\n",
    "uppercase_list=[]\n",
    "lowercase_list=[]\n",
    "\n",
    "for each in filt_tokens:\n",
    "    uppercase_list+=uppercase_pattern.findall(each)\n",
    "\n",
    "for each in filt_tokens:\n",
    "    lowercase_list+=lowercase_pattern.findall(each)\n",
    "    \n",
    "print(\"Total upper case tokens:\",len(uppercase_list))\n",
    "print(\"Total lower case tokens:\",len(lowercase_list))"
   ]
  },
  {
   "cell_type": "markdown",
   "metadata": {},
   "source": [
    "#### 7-2: Stemming using the Porter stemmer for lower case tokens"
   ]
  },
  {
   "cell_type": "code",
   "execution_count": 137,
   "metadata": {},
   "outputs": [
    {
     "name": "stdout",
     "output_type": "stream",
     "text": [
      "Stemmed lower-case tokens: 41260\n"
     ]
    }
   ],
   "source": [
    "stemmer = PorterStemmer()\n",
    "#print(['{0} -> {1}'.format(w, stemmer.stem(w)) for w in lowercase_list])\n",
    "\n",
    "\n",
    "lowercase_tokens = [stemmer.stem(word) for word in lowercase_list]\n",
    "print(\"Stemmed lower-case tokens:\",len(lowercase_tokens))"
   ]
  },
  {
   "cell_type": "markdown",
   "metadata": {},
   "source": [
    "#### 7-3: Combine both uppercase and stemmed lowercase to form the unigram"
   ]
  },
  {
   "cell_type": "code",
   "execution_count": 138,
   "metadata": {},
   "outputs": [
    {
     "name": "stdout",
     "output_type": "stream",
     "text": [
      "Total unigrams: 69002\n"
     ]
    }
   ],
   "source": [
    "#combining lowercase and uppercase\n",
    "\n",
    "final_unigram_tokens=list(lowercase_tokens+uppercase_list)\n",
    "print(\"Total unigrams:\",len(final_unigram_tokens))\n",
    "#final_unigram_tokens"
   ]
  },
  {
   "cell_type": "markdown",
   "metadata": {},
   "source": [
    "----------------------------------\n",
    "### 8) Finding Bigrams\n",
    "\n",
    "#### From previous step(7-3), top 200 bigrams are calculated from final uni-grams"
   ]
  },
  {
   "cell_type": "code",
   "execution_count": 139,
   "metadata": {
    "collapsed": true
   },
   "outputs": [],
   "source": [
    "bigram_measures = nltk.collocations.BigramAssocMeasures()\n",
    "bigram_finder = nltk.collocations.BigramCollocationFinder.from_words(final_unigram_tokens)\n",
    "bigram_finder.apply_freq_filter(1)\n",
    "bigram_finder.apply_word_filter(lambda w: len(w) < 3)# or w.lower() in ignored_words)\n",
    "top_200_bigrams = bigram_finder.nbest(bigram_measures.pmi, 200) # Top-200 bigrams\n",
    "#top_200_bigrams"
   ]
  },
  {
   "cell_type": "markdown",
   "metadata": {},
   "source": [
    "------------------------\n",
    "### 9) Re-tokenization using MWETokenizer.\n",
    "\n",
    "#### 9-1) Combine unigrams and bi-grams and make one vocab"
   ]
  },
  {
   "cell_type": "code",
   "execution_count": 140,
   "metadata": {},
   "outputs": [
    {
     "data": {
      "text/plain": [
       "3472"
      ]
     },
     "execution_count": 140,
     "metadata": {},
     "output_type": "execute_result"
    }
   ],
   "source": [
    "mwe_tokenizer = MWETokenizer(top_200_bigrams)\n",
    "mwe_tokens = mwe_tokenizer.tokenize(final_unigram_tokens)\n",
    "mwe_tokens.sort()\n",
    "mwe_tokens=set(mwe_tokens)\n",
    "len(mwe_tokens)\n",
    "#mwe_tokens contains the final tokens(unigrams and bi-grams)"
   ]
  },
  {
   "cell_type": "markdown",
   "metadata": {},
   "source": [
    "#### 9-2) Convert mwe tokens to formated list"
   ]
  },
  {
   "cell_type": "code",
   "execution_count": 141,
   "metadata": {
    "collapsed": true
   },
   "outputs": [],
   "source": [
    "#This step is required to search the bi-grams in resume data set.\n",
    "#Convert mwe tokens to formated list\n",
    "\n",
    "new_list=[]\n",
    "for each in mwe_tokens:\n",
    "    if re.match(\".*\\w+_\\w+\",each):\n",
    "        new_list.append(re.sub(r'_',' ',each))\n",
    "    else:\n",
    "        new_list.append(each)"
   ]
  },
  {
   "cell_type": "markdown",
   "metadata": {},
   "source": [
    "#### 9-3) From the filtered tokens,checking for any context-dependent words and filtering them."
   ]
  },
  {
   "cell_type": "code",
   "execution_count": 148,
   "metadata": {},
   "outputs": [
    {
     "name": "stdout",
     "output_type": "stream",
     "text": [
      "Final vocab: 3296\n"
     ]
    }
   ],
   "source": [
    "#From the filtered tokens,checking for any context-dependent words and filtering them.\n",
    "\n",
    "tokens_tobefilt=count_tokens_sen(new_list,final_data) #from the tokens finding the count of presence in each resume file.\n",
    "tokens_tobefilt=filter_contextdep(tokens_tobefilt) #finding the 98% and 2% tokens.\n",
    "final_vocab=[w for w in new_list if w not in tokens_tobefilt] #  cleaned tokens\n",
    "final_vocab=[w for w in final_vocab if w not in stop_words]#removing any stopwords if present\n",
    "final_vocab=filter_word(final_vocab) # removing any 3charc tokens\n",
    "final_vocab.sort()\n",
    "print(\"Final vocab:\",len(final_vocab))\n"
   ]
  },
  {
   "cell_type": "markdown",
   "metadata": {},
   "source": [
    "#### 9-4) Creating a final vocab index dictionary, which is output to file"
   ]
  },
  {
   "cell_type": "code",
   "execution_count": 151,
   "metadata": {
    "collapsed": true
   },
   "outputs": [],
   "source": [
    "# storing final vocab with dictionary with index\n",
    "final_vocab_dict=dict(enumerate(final_vocab))\n",
    "#print(final_vocab_dict)"
   ]
  },
  {
   "cell_type": "markdown",
   "metadata": {},
   "source": [
    "--------------------------------------\n",
    "### 10) Clean individual resume files and find the ocunt of each token in resume files"
   ]
  },
  {
   "cell_type": "markdown",
   "metadata": {},
   "source": [
    "#### 10-1) This step is required to clean indivual resume files, in order to capture the count of tokens in each file"
   ]
  },
  {
   "cell_type": "code",
   "execution_count": 152,
   "metadata": {},
   "outputs": [
    {
     "name": "stdout",
     "output_type": "stream",
     "text": [
      "'final_cleaned_data' contains a list of cleaned individual resumes\n"
     ]
    }
   ],
   "source": [
    "#The purpose of this step is to clean individual resume from stopwords, context dependent, context independent \n",
    "#and less than 3 characters length\n",
    "\n",
    "#Update the stop words with tokens with context dependent and tokens with less than 3 characters.\n",
    "stop_words.update(tokens_to_be_filtered_contextdep+tokens_tobefilt+tokens_3char)\n",
    "\n",
    "#Fucntion to remove stop words\n",
    "def final_clean(data):\n",
    "    new_list=[]\n",
    "    new_list+=[w for w in data if w not in stop_words]\n",
    "    return new_list\n",
    "\n",
    "#Access each resume and clean them.\n",
    "final_cleaned_data=[]\n",
    "for each in final_data:\n",
    "    new_str=''\n",
    "    token=f_tokenise(each)\n",
    "    new_str=final_clean(token)\n",
    "    final_cleaned_data.append(' '.join(new_str))\n",
    "\n",
    "print(\"'final_cleaned_data' contains a list of cleaned individual resumes\")"
   ]
  },
  {
   "cell_type": "markdown",
   "metadata": {},
   "source": [
    "#### 10-2) Find the count of each tokens in each resume files"
   ]
  },
  {
   "cell_type": "code",
   "execution_count": 153,
   "metadata": {},
   "outputs": [
    {
     "name": "stdout",
     "output_type": "stream",
     "text": [
      "'count_data_tokens' contains count of each token for each resume file\n"
     ]
    }
   ],
   "source": [
    "#Next find the count of each tokens in each resume files\n",
    "\n",
    "#This function tokenises and calculates the count of each token appearing in the resume file\n",
    "def word_count(data):\n",
    "    counts = dict()\n",
    "    words = f_tokenise(data)\n",
    "\n",
    "    for word in words:\n",
    "        if word in counts:\n",
    "            counts[word] += 1\n",
    "        else:\n",
    "            counts[word] = 1\n",
    "\n",
    "    return counts\n",
    "\n",
    "count_data_tokens=[]\n",
    "for each_sen in final_cleaned_data:\n",
    "    count_data_tokens.append(word_count(each_sen))\n",
    "\n",
    "print(\"'count_data_tokens' contains count of each token for each resume file\")"
   ]
  },
  {
   "cell_type": "markdown",
   "metadata": {
    "collapsed": true
   },
   "source": [
    "#### 10-3) Now map the count of each token with the index of the final_vocab, which is the desired output\n",
    "\n",
    "Here, 'resume_final_dict' contains the output in the format= token_index:count"
   ]
  },
  {
   "cell_type": "code",
   "execution_count": 154,
   "metadata": {
    "collapsed": true
   },
   "outputs": [],
   "source": [
    "final_dict=[]\n",
    "for each_tokenised_file in count_data_tokens:\n",
    "    new_dict = dict((k, each_tokenised_file.get(v)) for k, v in final_vocab_dict.items())\n",
    "    new_dict={k:v for k,v in new_dict.items() if v is not None}\n",
    "    final_dict.append(new_dict)\n",
    "    \n",
    "resume_final_dict = dict(zip(resume_student_dataset, final_dict))\n"
   ]
  },
  {
   "cell_type": "markdown",
   "metadata": {},
   "source": [
    "-----------------\n",
    "### 11) Writing final vocab to a file"
   ]
  },
  {
   "cell_type": "markdown",
   "metadata": {},
   "source": [
    "#### 11-1) Printing final vocab to a text file"
   ]
  },
  {
   "cell_type": "code",
   "execution_count": 155,
   "metadata": {
    "collapsed": true
   },
   "outputs": [],
   "source": [
    "import json \n",
    "\n",
    "with open('29389690_vocab.txt','w') as output_file:\n",
    "    output_file.write(\"Vocab of Unigrams & Bigrams:\\n\") \n",
    "    output_file.write(json.dumps(final_vocab_dict))\n",
    "output_file.close()"
   ]
  },
  {
   "cell_type": "markdown",
   "metadata": {
    "collapsed": true
   },
   "source": [
    "#### 11-2) Printing count vector to a text file"
   ]
  },
  {
   "cell_type": "code",
   "execution_count": 156,
   "metadata": {
    "collapsed": true
   },
   "outputs": [],
   "source": [
    "with open('29389690_countVec.txt','w') as output_file:\n",
    "    output_file.write(\"Count Vector:\\n\\n\")  \n",
    "    for k, v in resume_final_dict.items():\n",
    "        output_file.write('resume_'+str(k) + ','+ str(v).replace(\"{\",\"\").replace(\"}\", \"\") + '\\n\\n')\n",
    "output_file.close()\n"
   ]
  },
  {
   "cell_type": "markdown",
   "metadata": {
    "collapsed": true
   },
   "source": [
    "### 12) References\n",
    "\n",
    "10-2) word_count referred from this link https://www.w3resource.com/python-exercises/string/python-data-type-string-exercise-12.php"
   ]
  },
  {
   "cell_type": "markdown",
   "metadata": {},
   "source": []
  },
  {
   "cell_type": "markdown",
   "metadata": {},
   "source": [
    "### 13) Summary\n",
    "\n",
    "#### Logic used for assessment:\n",
    "\n",
    "Section 1) Identify the 250 resumes file numbers assigned to me.   \n",
    "   ##### Result: Out of 250, 219 were unqiue file numbers.                        \n",
    "--------------\n",
    "Section 2) Then out of total resumes(867) available, read only the 219 resumes' data from the directory. Additionally, sentence segmentation and case normalization is done.    \n",
    "   ##### Result: Out of 250, 219 were read, all sentences were segmented and case normalization was performed.                        \n",
    "----------\n",
    "Section 3) Perform tokenisation. \n",
    "   ##### Result: Total tokens present after reading all 219 resumes: 137702                       \n",
    "--------\n",
    "Section 4) Tokens filtering from stop words.            \n",
    "   ##### Result: Tokens filtered from stop words: 105116                        \n",
    "-------------\n",
    "Section 5) Filtering tokens with less than 3 characters.                                     \n",
    "   ##### Result: Tokens less than 3 character removed and new filtered tokens= 91722                    \n",
    "-----------\n",
    "Section 6) Filtering context-dependent (with the threshold set to %98) and rare tokens (less than 2%).                   \n",
    "   ##### Result: Filtered tokens after removing context dependent= 71962                       \n",
    "-------------\n",
    "Section 7) Stemming process only for lower-case tokens.                   \n",
    "   ##### Result: After stemming, combining of uppercase and lowercase tokens, we get total tokens: 69002.                        \n",
    "-------------\n",
    "Section 8) Finding Bi-grams.                        \n",
    "   ##### Result: Top 200 bi-grams is found.                        \n",
    "-----------\n",
    "Section 9) Re-tokenization using MWETokenizer.                    \n",
    "   ##### Result: Using mwe tokeniser, bi-grams and unigrams are mixed and final vocab: 3296 is found.            \n",
    "--------------\n",
    "Section 10) Calculating the term frequency and creating a vector for desired output.                      \n",
    "   ##### Result: For each resume, count of each token is calculated.                        \n",
    "---------------\n",
    "Section 11) Writing output to files.\n",
    "   ##### Result: Result is printed in two files\n",
    "\n",
    "--------\n",
    "#### The wrangling process illustrated above, shows how a text starting with bellow statistics, ended up reduced to more sparse text while conserving the main text feature.\n",
    "\n",
    "######################### Text Statistics Before Wrangling ##################################\n",
    "\n",
    "Total number of vocabs: 137702\n",
    "\n",
    "\n",
    "######################### Final Text Statistics After Wranling ##################################\n",
    "\n",
    "Total number of vocabs: 3296\n"
   ]
  },
  {
   "cell_type": "markdown",
   "metadata": {},
   "source": [
    "### Creating Dataframe and plotting the values"
   ]
  },
  {
   "cell_type": "code",
   "execution_count": 157,
   "metadata": {
    "collapsed": true
   },
   "outputs": [],
   "source": [
    "df= pd.DataFrame({\"count\":[137702,105116,91722,71962,69002,3296]},\n",
    "                index=['Total tokens present after reading all 219 resumes','Tokens filtered from stop words','Tokens less than 3 character','Tokens removed context dependent','Count of tokens post stemming','Final vocab count post mwe tokenise'])"
   ]
  },
  {
   "cell_type": "code",
   "execution_count": 158,
   "metadata": {},
   "outputs": [
    {
     "data": {
      "image/png": "[encoded data removed]",
      "text/plain": [
       "<matplotlib.figure.Figure at 0x2e8a95ed7b8>"
      ]
     },
     "metadata": {},
     "output_type": "display_data"
    }
   ],
   "source": [
    "df.plot.bar()\n",
    "plt.xlabel('Wrangling stage')\n",
    "plt.ylabel(\"Frequency\")\n",
    "plt.title(\"Token reduction post each wrangling stage\")\n",
    "plt.show()"
   ]
  },
  {
   "cell_type": "code",
   "execution_count": null,
   "metadata": {
    "collapsed": true
   },
   "outputs": [],
   "source": []
  }
 ],
 "metadata": {
  "kernelspec": {
   "display_name": "Python 3",
   "language": "python",
   "name": "python3"
  },
  "language_info": {
   "codemirror_mode": {
    "name": "ipython",
    "version": 3
   },
   "file_extension": ".py",
   "mimetype": "text/x-python",
   "name": "python",
   "nbconvert_exporter": "python",
   "pygments_lexer": "ipython3",
   "version": "3.6.1"
  }
 },
 "nbformat": 4,
 "nbformat_minor": 2
}
